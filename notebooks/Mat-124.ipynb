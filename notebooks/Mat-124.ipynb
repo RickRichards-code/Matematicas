{
 "cells": [
  {
   "cell_type": "code",
   "execution_count": 7,
   "id": "initial_id",
   "metadata": {
    "collapsed": true,
    "ExecuteTime": {
     "end_time": "2023-08-24T18:03:54.929947700Z",
     "start_time": "2023-08-24T18:03:54.909601800Z"
    }
   },
   "outputs": [
    {
     "data": {
      "text/plain": "Matrix([\n[ 1, 2],\n[-1, 0],\n[ 0, 1]])",
      "text/latex": "$\\displaystyle \\left[\\begin{matrix}1 & 2\\\\-1 & 0\\\\0 & 1\\end{matrix}\\right]$"
     },
     "execution_count": 7,
     "metadata": {},
     "output_type": "execute_result"
    }
   ],
   "source": [
    "import sympy as sp\n",
    "\n",
    "A = sp.Matrix([[1, 2],\n",
    "               [-1, 0],\n",
    "               [0, 1]])\n",
    "\n",
    "B = sp.Matrix([[-1, 1],\n",
    "               [0, 1]])\n",
    "\n",
    "C = sp.Matrix([[-1, 1, 0],\n",
    "               [0, 0, 1]])\n",
    "\n",
    "D = sp.Matrix([[0, 1],\n",
    "               [1, 1]])\n",
    "\n",
    "A"
   ]
  },
  {
   "cell_type": "code",
   "execution_count": 11,
   "outputs": [
    {
     "data": {
      "text/plain": "Matrix([\n[1, -1, 1],\n[0,  0, 1]])",
      "text/latex": "$\\displaystyle \\left[\\begin{matrix}1 & -1 & 1\\\\0 & 0 & 1\\end{matrix}\\right]$"
     },
     "execution_count": 11,
     "metadata": {},
     "output_type": "execute_result"
    }
   ],
   "source": [
    "B * C"
   ],
   "metadata": {
    "collapsed": false,
    "ExecuteTime": {
     "end_time": "2023-08-15T16:56:41.232893300Z",
     "start_time": "2023-08-15T16:56:41.217246400Z"
    }
   },
   "id": "d616f9232be9dafc"
  },
  {
   "cell_type": "code",
   "execution_count": 12,
   "outputs": [
    {
     "data": {
      "text/plain": "Matrix([\n[ 1, -1,  3],\n[-1,  1, -1],\n[ 0,  0,  1]])",
      "text/latex": "$\\displaystyle \\left[\\begin{matrix}1 & -1 & 3\\\\-1 & 1 & -1\\\\0 & 0 & 1\\end{matrix}\\right]$"
     },
     "execution_count": 12,
     "metadata": {},
     "output_type": "execute_result"
    }
   ],
   "source": [
    "(A * B) * C"
   ],
   "metadata": {
    "collapsed": false,
    "ExecuteTime": {
     "end_time": "2023-08-15T16:56:59.175828600Z",
     "start_time": "2023-08-15T16:56:59.161820800Z"
    }
   },
   "id": "19c1b9523c554c9c"
  },
  {
   "cell_type": "code",
   "execution_count": 13,
   "outputs": [
    {
     "data": {
      "text/plain": "Matrix([\n[ 1, -1,  3],\n[-1,  1, -1],\n[ 0,  0,  1]])",
      "text/latex": "$\\displaystyle \\left[\\begin{matrix}1 & -1 & 3\\\\-1 & 1 & -1\\\\0 & 0 & 1\\end{matrix}\\right]$"
     },
     "execution_count": 13,
     "metadata": {},
     "output_type": "execute_result"
    }
   ],
   "source": [
    "A * (B * C)"
   ],
   "metadata": {
    "collapsed": false,
    "ExecuteTime": {
     "end_time": "2023-08-15T16:57:27.586154300Z",
     "start_time": "2023-08-15T16:57:27.573178500Z"
    }
   },
   "id": "255c3958c24fe03d"
  },
  {
   "cell_type": "code",
   "execution_count": 18,
   "outputs": [
    {
     "ename": "ShapeError",
     "evalue": "Matrix size mismatch: (2, 2) * (3, 2).",
     "output_type": "error",
     "traceback": [
      "\u001B[1;31m---------------------------------------------------------------------------\u001B[0m",
      "\u001B[1;31mShapeError\u001B[0m                                Traceback (most recent call last)",
      "Cell \u001B[1;32mIn[18], line 1\u001B[0m\n\u001B[1;32m----> 1\u001B[0m \u001B[43mB\u001B[49m\u001B[38;5;241;43m*\u001B[39;49m\u001B[43mA\u001B[49m\n",
      "File \u001B[1;32m~\\PycharmProjects\\Matematicas\\venv\\Lib\\site-packages\\sympy\\core\\decorators.py:106\u001B[0m, in \u001B[0;36mcall_highest_priority.<locals>.priority_decorator.<locals>.binary_op_wrapper\u001B[1;34m(self, other)\u001B[0m\n\u001B[0;32m    104\u001B[0m         \u001B[38;5;28;01mif\u001B[39;00m f \u001B[38;5;129;01mis\u001B[39;00m \u001B[38;5;129;01mnot\u001B[39;00m \u001B[38;5;28;01mNone\u001B[39;00m:\n\u001B[0;32m    105\u001B[0m             \u001B[38;5;28;01mreturn\u001B[39;00m f(\u001B[38;5;28mself\u001B[39m)\n\u001B[1;32m--> 106\u001B[0m \u001B[38;5;28;01mreturn\u001B[39;00m \u001B[43mfunc\u001B[49m\u001B[43m(\u001B[49m\u001B[38;5;28;43mself\u001B[39;49m\u001B[43m,\u001B[49m\u001B[43m \u001B[49m\u001B[43mother\u001B[49m\u001B[43m)\u001B[49m\n",
      "File \u001B[1;32m~\\PycharmProjects\\Matematicas\\venv\\Lib\\site-packages\\sympy\\matrices\\common.py:2702\u001B[0m, in \u001B[0;36mMatrixArithmetic.__mul__\u001B[1;34m(self, other)\u001B[0m\n\u001B[0;32m   2673\u001B[0m \u001B[38;5;129m@call_highest_priority\u001B[39m(\u001B[38;5;124m'\u001B[39m\u001B[38;5;124m__rmul__\u001B[39m\u001B[38;5;124m'\u001B[39m)\n\u001B[0;32m   2674\u001B[0m \u001B[38;5;28;01mdef\u001B[39;00m \u001B[38;5;21m__mul__\u001B[39m(\u001B[38;5;28mself\u001B[39m, other):\n\u001B[0;32m   2675\u001B[0m \u001B[38;5;250m    \u001B[39m\u001B[38;5;124;03m\"\"\"Return self*other where other is either a scalar or a matrix\u001B[39;00m\n\u001B[0;32m   2676\u001B[0m \u001B[38;5;124;03m    of compatible dimensions.\u001B[39;00m\n\u001B[0;32m   2677\u001B[0m \n\u001B[1;32m   (...)\u001B[0m\n\u001B[0;32m   2699\u001B[0m \u001B[38;5;124;03m    matrix_multiply_elementwise\u001B[39;00m\n\u001B[0;32m   2700\u001B[0m \u001B[38;5;124;03m    \"\"\"\u001B[39;00m\n\u001B[1;32m-> 2702\u001B[0m     \u001B[38;5;28;01mreturn\u001B[39;00m \u001B[38;5;28;43mself\u001B[39;49m\u001B[38;5;241;43m.\u001B[39;49m\u001B[43mmultiply\u001B[49m\u001B[43m(\u001B[49m\u001B[43mother\u001B[49m\u001B[43m)\u001B[49m\n",
      "File \u001B[1;32m~\\PycharmProjects\\Matematicas\\venv\\Lib\\site-packages\\sympy\\matrices\\common.py:2724\u001B[0m, in \u001B[0;36mMatrixArithmetic.multiply\u001B[1;34m(self, other, dotprodsimp)\u001B[0m\n\u001B[0;32m   2720\u001B[0m \u001B[38;5;28;01mif\u001B[39;00m (\u001B[38;5;28mhasattr\u001B[39m(other, \u001B[38;5;124m'\u001B[39m\u001B[38;5;124mshape\u001B[39m\u001B[38;5;124m'\u001B[39m) \u001B[38;5;129;01mand\u001B[39;00m \u001B[38;5;28mlen\u001B[39m(other\u001B[38;5;241m.\u001B[39mshape) \u001B[38;5;241m==\u001B[39m \u001B[38;5;241m2\u001B[39m \u001B[38;5;129;01mand\u001B[39;00m\n\u001B[0;32m   2721\u001B[0m     (\u001B[38;5;28mgetattr\u001B[39m(other, \u001B[38;5;124m'\u001B[39m\u001B[38;5;124mis_Matrix\u001B[39m\u001B[38;5;124m'\u001B[39m, \u001B[38;5;28;01mTrue\u001B[39;00m) \u001B[38;5;129;01mor\u001B[39;00m\n\u001B[0;32m   2722\u001B[0m      \u001B[38;5;28mgetattr\u001B[39m(other, \u001B[38;5;124m'\u001B[39m\u001B[38;5;124mis_MatrixLike\u001B[39m\u001B[38;5;124m'\u001B[39m, \u001B[38;5;28;01mTrue\u001B[39;00m))):\n\u001B[0;32m   2723\u001B[0m     \u001B[38;5;28;01mif\u001B[39;00m \u001B[38;5;28mself\u001B[39m\u001B[38;5;241m.\u001B[39mshape[\u001B[38;5;241m1\u001B[39m] \u001B[38;5;241m!=\u001B[39m other\u001B[38;5;241m.\u001B[39mshape[\u001B[38;5;241m0\u001B[39m]:\n\u001B[1;32m-> 2724\u001B[0m         \u001B[38;5;28;01mraise\u001B[39;00m ShapeError(\u001B[38;5;124m\"\u001B[39m\u001B[38;5;124mMatrix size mismatch: \u001B[39m\u001B[38;5;132;01m%s\u001B[39;00m\u001B[38;5;124m * \u001B[39m\u001B[38;5;132;01m%s\u001B[39;00m\u001B[38;5;124m.\u001B[39m\u001B[38;5;124m\"\u001B[39m \u001B[38;5;241m%\u001B[39m (\n\u001B[0;32m   2725\u001B[0m             \u001B[38;5;28mself\u001B[39m\u001B[38;5;241m.\u001B[39mshape, other\u001B[38;5;241m.\u001B[39mshape))\n\u001B[0;32m   2727\u001B[0m \u001B[38;5;66;03m# honest SymPy matrices defer to their class's routine\u001B[39;00m\n\u001B[0;32m   2728\u001B[0m \u001B[38;5;28;01mif\u001B[39;00m \u001B[38;5;28mgetattr\u001B[39m(other, \u001B[38;5;124m'\u001B[39m\u001B[38;5;124mis_Matrix\u001B[39m\u001B[38;5;124m'\u001B[39m, \u001B[38;5;28;01mFalse\u001B[39;00m):\n",
      "\u001B[1;31mShapeError\u001B[0m: Matrix size mismatch: (2, 2) * (3, 2)."
     ]
    }
   ],
   "source": [
    "B * A  # no es posible multiplicar esta matriz"
   ],
   "metadata": {
    "collapsed": false,
    "ExecuteTime": {
     "end_time": "2023-08-15T16:58:58.782722800Z",
     "start_time": "2023-08-15T16:58:58.711934300Z"
    }
   },
   "id": "ff047841f772a185"
  },
  {
   "cell_type": "code",
   "execution_count": 45,
   "outputs": [
    {
     "name": "stdout",
     "output_type": "stream",
     "text": [
      "la matriz tiene que ser cuadrada  \n"
     ]
    }
   ],
   "source": [
    "# Matriz identidad\n",
    "\n",
    "def identidad(matriz):\n",
    "    rows, cols = matriz.shape\n",
    "    if rows == cols:\n",
    "        return sp.eye(rows, cols)\n",
    "    else:\n",
    "        print(\"la matriz tiene que ser cuadrada  \")\n",
    "\n",
    "\n",
    "identidad(A)\n"
   ],
   "metadata": {
    "collapsed": false,
    "ExecuteTime": {
     "end_time": "2023-08-24T18:18:49.952410500Z",
     "start_time": "2023-08-24T18:18:49.911197600Z"
    }
   },
   "id": "98198d1929423c74"
  },
  {
   "cell_type": "code",
   "execution_count": 3,
   "outputs": [
    {
     "data": {
      "text/plain": "Matrix([\n[ -2,    1],\n[3/2, -1/2]])",
      "text/latex": "$\\displaystyle \\left[\\begin{matrix}-2 & 1\\\\\\frac{3}{2} & - \\frac{1}{2}\\end{matrix}\\right]$"
     },
     "execution_count": 3,
     "metadata": {},
     "output_type": "execute_result"
    }
   ],
   "source": [
    "A1 = sp.Matrix([[1, 2],\n",
    "                [3, 4]])\n",
    "A1.inv()  # inversa de una matriz    "
   ],
   "metadata": {
    "collapsed": false,
    "ExecuteTime": {
     "end_time": "2023-08-17T16:33:50.224005900Z",
     "start_time": "2023-08-17T16:33:50.208003400Z"
    }
   },
   "id": "2352516f90fc288b"
  },
  {
   "cell_type": "code",
   "execution_count": 4,
   "outputs": [
    {
     "data": {
      "text/plain": "Matrix([\n[1, 0],\n[0, 1]])",
      "text/latex": "$\\displaystyle \\left[\\begin{matrix}1 & 0\\\\0 & 1\\end{matrix}\\right]$"
     },
     "execution_count": 4,
     "metadata": {},
     "output_type": "execute_result"
    }
   ],
   "source": [
    "A1 * A1.inv()"
   ],
   "metadata": {
    "collapsed": false,
    "ExecuteTime": {
     "end_time": "2023-08-17T16:34:13.616752600Z",
     "start_time": "2023-08-17T16:34:13.604706600Z"
    }
   },
   "id": "667799721ac323b"
  },
  {
   "cell_type": "markdown",
   "source": [
    "# Sistemas de ecuaciones lineal"
   ],
   "metadata": {
    "collapsed": false
   },
   "id": "9daf3bad5e7b8f5d"
  },
  {
   "cell_type": "code",
   "execution_count": 21,
   "outputs": [
    {
     "name": "stdout",
     "output_type": "stream",
     "text": [
      "Solución:\n",
      "{x: 17/5, y: -13/5}\n"
     ]
    }
   ],
   "source": [
    "x, y = sp.symbols('x y')\n",
    "eq1 = sp.Eq(2 * x + 3 * y, -1)\n",
    "eq2 = sp.Eq(x - y, 6)\n",
    "solution = sp.solve((eq1, eq2), (x, y))\n",
    "# solution\n",
    "print(\"Solución:\")\n",
    "sp.pprint(solution)"
   ],
   "metadata": {
    "collapsed": false,
    "ExecuteTime": {
     "end_time": "2023-08-17T17:38:00.962397400Z",
     "start_time": "2023-08-17T17:38:00.915151700Z"
    }
   },
   "id": "d31092b0ad54ad9d"
  },
  {
   "cell_type": "code",
   "execution_count": 25,
   "outputs": [
    {
     "name": "stdout",
     "output_type": "stream",
     "text": [
      "Solución:\n",
      "{x: -5/11, y: 12/11, z: -2/11}\n"
     ]
    }
   ],
   "source": [
    "x, y, z = sp.symbols('x y z')\n",
    "eq1 = sp.Eq(x + 3 * y - z, 3)\n",
    "eq2 = sp.Eq(-x - y + 2 * z, -1)\n",
    "eq3 = sp.Eq(2 * x - y, -2)\n",
    "solution = sp.solve((eq1, eq2, eq3), (x, y, z))\n",
    "print(\"Solución:\")\n",
    "print(solution)\n"
   ],
   "metadata": {
    "collapsed": false,
    "ExecuteTime": {
     "end_time": "2023-08-17T17:43:08.115179400Z",
     "start_time": "2023-08-17T17:43:08.083299100Z"
    }
   },
   "id": "829d08a9667ce5cc"
  },
  {
   "cell_type": "markdown",
   "source": [
    "| Columna 1 | Columna 2 |\n",
    "|-----------|-----------|\n",
    "| Contenido | Contenido |\n",
    "| Contenido | Contenido |\n",
    "| Contenido | Contenido |\n"
   ],
   "metadata": {
    "collapsed": false
   },
   "id": "5e95a82090d10fde"
  },
  {
   "cell_type": "code",
   "execution_count": null,
   "outputs": [],
   "source": [],
   "metadata": {
    "collapsed": false
   },
   "id": "19205abac079bc6e"
  }
 ],
 "metadata": {
  "kernelspec": {
   "display_name": "Python 3",
   "language": "python",
   "name": "python3"
  },
  "language_info": {
   "codemirror_mode": {
    "name": "ipython",
    "version": 2
   },
   "file_extension": ".py",
   "mimetype": "text/x-python",
   "name": "python",
   "nbconvert_exporter": "python",
   "pygments_lexer": "ipython2",
   "version": "2.7.6"
  }
 },
 "nbformat": 4,
 "nbformat_minor": 5
}
